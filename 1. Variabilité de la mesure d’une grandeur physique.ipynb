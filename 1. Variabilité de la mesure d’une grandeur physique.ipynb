{
 "cells": [
  {
   "cell_type": "markdown",
   "metadata": {},
   "source": [
    "# Licence\n",
    "<a rel=\"license\" href=\"http://creativecommons.org/licenses/by-nc-sa/4.0/\"><img alt=\"Creative Commons Licence\" style=\"border-width:0\" src=\"https://i.creativecommons.org/l/by-nc-sa/4.0/88x31.png\" /></a><br />Ce document est sous licence <a rel=\"license\" href=\"http://creativecommons.org/licenses/by-nc-sa/4.0/\">Creative Commons Attribution-Non Commercial-Share Alike 4.0 International License</a>.\n",
    "\n",
    "Vous êtes autorisé à :\n",
    "* Partager : copier, distribuer et communiquer le matériel par tous moyens et sous tous formats\n",
    "* Adapter : remixer, transformer et créer à partir du matériel\n",
    "\n",
    "Selon les conditions suivantes :\n",
    "* Attribution : vous devez créditer l'Œuvre (donner le nom de l'auteur), intégrer un lien vers la licence et indiquer si des modifications ont été effectuées à l'Oeuvre ;et vous devez indiquer ces informations par tous les moyens raisonnables, sans toutefois suggérer que l'Offrant vous soutient ou soutient la façon dont vous avez utilisé son Oeuvre.\n",
    "\n",
    "* Pas d’Utilisation Commerciale : vous n'êtes pas autorisé à faire un usage commercial de cette Oeuvre, tout ou partie du matériel la composant.\n",
    "\n",
    "* Partage dans les Mêmes Conditions : dans le cas où vous effectuez un remix, que vous transformez, ou créez à partir du matériel composant l'Oeuvre originale, vous devez diffuser l'Oeuvre modifiée dans les même conditions, c'est à dire avec la même licence avec laquelle l'Oeuvre originale a été diffusée.\n",
    "\n"
   ]
  }
 ],
 "metadata": {
  "kernelspec": {
   "display_name": "Python 3",
   "language": "python",
   "name": "python3"
  },
  "language_info": {
   "codemirror_mode": {
    "name": "ipython",
    "version": 3
   },
   "file_extension": ".py",
   "mimetype": "text/x-python",
   "name": "python",
   "nbconvert_exporter": "python",
   "pygments_lexer": "ipython3",
   "version": "3.7.0"
  }
 },
 "nbformat": 4,
 "nbformat_minor": 2
}
